{
 "cells": [
  {
   "cell_type": "markdown",
   "metadata": {},
   "source": [
    "# Advent of Code Day 5"
   ]
  },
  {
   "cell_type": "markdown",
   "metadata": {},
   "source": [
    "### Part 1"
   ]
  },
  {
   "cell_type": "code",
   "execution_count": 43,
   "metadata": {},
   "outputs": [
    {
     "name": "stdout",
     "output_type": "stream",
     "text": [
      "374927\n"
     ]
    }
   ],
   "source": [
    "def parser():\n",
    "    file = open('input.txt', 'r')\n",
    "    fish = file.readline()\n",
    "    fish = fish.split(',')\n",
    "    return fish\n",
    "\n",
    "def fishDayCount(fish):\n",
    "    return list(map(fish.count, '012345678'))\n",
    "\n",
    "def fishSimulator(fishDayList, days):\n",
    "    for i in range(days):\n",
    "        zeroCount = fishDayList[0]\n",
    "        fishDayList = fishDayList[1:] + [zeroCount]\n",
    "        fishDayList[6] += zeroCount\n",
    "    return fishDayList\n",
    "\n",
    "if __name__ == '__main__':\n",
    "    fish = parser()\n",
    "    daysPassed = 80\n",
    "    fishDayList = fishDayCount(fish)\n",
    "    simulatedFishDayList = fishSimulator(fishDayList, daysPassed)\n",
    "    print(sum(simulatedFishDayList))\n",
    "    \n",
    "\n",
    "    \n",
    "    \n"
   ]
  },
  {
   "cell_type": "markdown",
   "metadata": {},
   "source": [
    "### Part 2"
   ]
  },
  {
   "cell_type": "code",
   "execution_count": 39,
   "metadata": {},
   "outputs": [
    {
     "name": "stdout",
     "output_type": "stream",
     "text": [
      "1687617803407\n"
     ]
    }
   ],
   "source": [
    "def parser():\n",
    "    file = open('input.txt', 'r')\n",
    "    fish = file.readline()\n",
    "    fish = fish.split(',')\n",
    "    return fish\n",
    "\n",
    "def fishDayCount(fish):\n",
    "    return list(map(fish.count, '012345678'))\n",
    "\n",
    "def fishSimulator(fishDayList, days):\n",
    "    for i in range(days):\n",
    "        zeroCount = fishDayList[0]\n",
    "        fishDayList = fishDayList[1:] + [zeroCount]\n",
    "        fishDayList[6] += zeroCount\n",
    "    return fishDayList\n",
    "\n",
    "if __name__ == '__main__':\n",
    "    fish = parser()\n",
    "    daysPassed = 256\n",
    "    fishDayList = fishDayCount(fish)\n",
    "    simulatedFishDayList = fishSimulator(fishDayList, daysPassed)\n",
    "    print(sum(simulatedFishDayList))\n",
    "    \n",
    "    "
   ]
  },
  {
   "cell_type": "code",
   "execution_count": null,
   "metadata": {},
   "outputs": [],
   "source": []
  }
 ],
 "metadata": {
  "interpreter": {
   "hash": "b3ba2566441a7c06988d0923437866b63cedc61552a5af99d1f4fb67d367b25f"
  },
  "kernelspec": {
   "display_name": "Python 3.8.8 64-bit ('base': conda)",
   "language": "python",
   "name": "python3"
  },
  "language_info": {
   "codemirror_mode": {
    "name": "ipython",
    "version": 3
   },
   "file_extension": ".py",
   "mimetype": "text/x-python",
   "name": "python",
   "nbconvert_exporter": "python",
   "pygments_lexer": "ipython3",
   "version": "3.8.5"
  },
  "orig_nbformat": 4
 },
 "nbformat": 4,
 "nbformat_minor": 2
}
