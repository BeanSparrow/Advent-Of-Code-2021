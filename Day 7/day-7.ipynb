{
 "cells": [
  {
   "cell_type": "markdown",
   "metadata": {},
   "source": [
    "# Advent of Code Day 7"
   ]
  },
  {
   "cell_type": "markdown",
   "metadata": {},
   "source": [
    "### Part 1 & 2"
   ]
  },
  {
   "cell_type": "code",
   "execution_count": 51,
   "metadata": {},
   "outputs": [
    {
     "name": "stdout",
     "output_type": "stream",
     "text": [
      "Part 1: 337488\n",
      "Part 2: 89647716\n"
     ]
    }
   ],
   "source": [
    "import math\n",
    "from statistics import mean, median\n",
    "\n",
    "def fuelCalculatorPart1(list, median):\n",
    "    list = [abs(median-i) for i in list]\n",
    "    return int(sum(list))\n",
    "\n",
    "def fuelCalculatorPart2(list, mean):\n",
    "    list = [abs(mean-i)*(abs(mean-i) +1) / 2 for i in list]\n",
    "    return int(sum(list))\n",
    "\n",
    "if __name__ == '__main__':\n",
    "    file = open('input.txt', 'r')\n",
    "    crabPos = [int(i) for i in file.readline().strip().split(',')]\n",
    "\n",
    "    median = median(crabPos)\n",
    "    print(f'Part 1: {fuelCalculatorPart1(crabPos, median)}')\n",
    "\n",
    "    mean = math.ceil(mean(crabPos))\n",
    "    print(f'Part 2: {fuelCalculatorPart2(crabPos, mean)}')"
   ]
  },
  {
   "cell_type": "code",
   "execution_count": null,
   "metadata": {},
   "outputs": [],
   "source": []
  }
 ],
 "metadata": {
  "interpreter": {
   "hash": "b3ba2566441a7c06988d0923437866b63cedc61552a5af99d1f4fb67d367b25f"
  },
  "kernelspec": {
   "display_name": "Python 3.8.8 64-bit ('base': conda)",
   "language": "python",
   "name": "python3"
  },
  "language_info": {
   "codemirror_mode": {
    "name": "ipython",
    "version": 3
   },
   "file_extension": ".py",
   "mimetype": "text/x-python",
   "name": "python",
   "nbconvert_exporter": "python",
   "pygments_lexer": "ipython3",
   "version": "3.8.8"
  },
  "orig_nbformat": 4
 },
 "nbformat": 4,
 "nbformat_minor": 2
}
