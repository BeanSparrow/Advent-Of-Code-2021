{
 "cells": [
  {
   "cell_type": "markdown",
   "metadata": {},
   "source": [
    "# Advent of Code Day 3"
   ]
  },
  {
   "cell_type": "markdown",
   "metadata": {},
   "source": [
    "### Part 1"
   ]
  },
  {
   "cell_type": "code",
   "execution_count": 77,
   "metadata": {},
   "outputs": [
    {
     "name": "stdout",
     "output_type": "stream",
     "text": [
      "4006064\n"
     ]
    }
   ],
   "source": [
    "\n",
    "def parser():\n",
    "    file = open('input.txt', 'r')\n",
    "    return file.read().splitlines()\n",
    "\n",
    "def commonCounter(report):\n",
    "    commonDict = {}\n",
    "    for i in range(len(report[0])):\n",
    "        commonDict[i] = 0\n",
    "    lineCount = 0\n",
    "    for line in report:\n",
    "        line = line.strip()\n",
    "        lineCount += 1\n",
    "        for i in range(len(line)):\n",
    "            commonDict[i] += int(line[i])\n",
    "    return commonDict, lineCount\n",
    "\n",
    "def gammaRate(common, lineCount):\n",
    "    gamma = ''\n",
    "    for el in common:\n",
    "        if common[el] > lineCount / 2:\n",
    "            gamma += '1'\n",
    "        else:\n",
    "            gamma += '0'\n",
    "    return gamma\n",
    "\n",
    "def binaryInverter(num):\n",
    "    inverted = ''\n",
    "    for i in range(len(num)):\n",
    "        if num[i] == '1':\n",
    "            inverted += '0'\n",
    "        else:\n",
    "            inverted += '1'\n",
    "    return inverted\n",
    "\n",
    "if __name__ == '__main__':\n",
    "    diagnosticReport = parser()\n",
    "    commonDict, lineCount = commonCounter(diagnosticReport)\n",
    "    gamma = gammaRate(commonDict, lineCount)\n",
    "    print(int(binaryInverter(gamma), 2) * int(gamma, 2))\n",
    "\n",
    "\n",
    "    "
   ]
  },
  {
   "cell_type": "markdown",
   "metadata": {},
   "source": [
    "### Part 2"
   ]
  },
  {
   "cell_type": "code",
   "execution_count": 78,
   "metadata": {},
   "outputs": [
    {
     "name": "stdout",
     "output_type": "stream",
     "text": [
      "5941884\n"
     ]
    }
   ],
   "source": [
    "def parser():\n",
    "    file = open('input.txt', 'r')\n",
    "    return file.read().splitlines()\n",
    "\n",
    "def commonCounter(report):\n",
    "    commonDict = {}\n",
    "    for i in range(len(report[0])):\n",
    "        commonDict[i] = 0\n",
    "    lineCount = 0\n",
    "    for line in report:\n",
    "        lineCount += 1\n",
    "        for i in range(len(line)):\n",
    "            commonDict[i] += int(line[i])\n",
    "    return commonDict, lineCount\n",
    "\n",
    "def oxygenRating(report):\n",
    "    for i in range(len(report[0])):\n",
    "        common, lineCount = commonCounter(report)\n",
    "        if common[i] >= lineCount / 2:\n",
    "            report = [x for x in report if x[i] == '1']\n",
    "        else:\n",
    "            report = [x for x in report if x[i] == '0']\n",
    "        if len(report) == 1:\n",
    "            return report\n",
    "\n",
    "def co2ScrubbingRating(report):\n",
    "    for i in range(len(report[0])):\n",
    "        common, lineCount = commonCounter(report)\n",
    "        if common[i] >= lineCount / 2:\n",
    "            report = [x for x in report if x[i] == '0']\n",
    "        else:\n",
    "            report = [x for x in report if x[i] == '1']\n",
    "        if len(report) == 1:\n",
    "            return report\n",
    "\n",
    "if __name__ == '__main__':\n",
    "    diagnosticReport = parser()\n",
    "    oxygenRatingValue = oxygenRating(diagnosticReport)\n",
    "    co2ScrubbingValue = co2ScrubbingRating(diagnosticReport)\n",
    "    print(int(oxygenRatingValue[0],2) * int(co2ScrubbingValue[0],2))\n",
    "    "
   ]
  },
  {
   "cell_type": "code",
   "execution_count": null,
   "metadata": {},
   "outputs": [],
   "source": []
  }
 ],
 "metadata": {
  "interpreter": {
   "hash": "b3ba2566441a7c06988d0923437866b63cedc61552a5af99d1f4fb67d367b25f"
  },
  "kernelspec": {
   "display_name": "Python 3.8.8 64-bit ('base': conda)",
   "language": "python",
   "name": "python3"
  },
  "language_info": {
   "codemirror_mode": {
    "name": "ipython",
    "version": 3
   },
   "file_extension": ".py",
   "mimetype": "text/x-python",
   "name": "python",
   "nbconvert_exporter": "python",
   "pygments_lexer": "ipython3",
   "version": "3.8.8"
  },
  "orig_nbformat": 4
 },
 "nbformat": 4,
 "nbformat_minor": 2
}
