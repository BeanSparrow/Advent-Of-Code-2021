{
 "cells": [
  {
   "cell_type": "markdown",
   "metadata": {},
   "source": [
    "# Advent of Code Day 8"
   ]
  },
  {
   "cell_type": "markdown",
   "metadata": {},
   "source": [
    "### Part 1"
   ]
  },
  {
   "cell_type": "code",
   "execution_count": 50,
   "metadata": {},
   "outputs": [
    {
     "name": "stdout",
     "output_type": "stream",
     "text": [
      "493\n"
     ]
    }
   ],
   "source": [
    "def outputCounter(list):\n",
    "    sevenSegments = {1: 2, 4: 4, 7: 3, 8: 7}\n",
    "    outputCount = 0\n",
    "    for i in range(len(list)//2):\n",
    "        for j in list[i*2+1]:\n",
    "            if len(j) in sevenSegments.values():\n",
    "                outputCount += 1\n",
    "    return outputCount\n",
    "\n",
    "if __name__ == '__main__':\n",
    "    file = open('input.txt', 'r')\n",
    "    displayCipher = [i.strip().split(' | ') for i in file.readlines()]\n",
    "    displayCipher = [i[x].split(' ') for i in displayCipher for x in range(len(i))]\n",
    "    print(outputCounter(displayCipher))\n",
    "\n",
    "  "
   ]
  },
  {
   "cell_type": "markdown",
   "metadata": {},
   "source": [
    "### Part 2"
   ]
  },
  {
   "cell_type": "code",
   "execution_count": 58,
   "metadata": {},
   "outputs": [
    {
     "name": "stdout",
     "output_type": "stream",
     "text": [
      "1010460\n"
     ]
    }
   ],
   "source": [
    "# Narrows Possible Solutions using Signal Patterns for 7 and 4\n",
    "def narrowWithUniques(possibleValuesDict):\n",
    "\n",
    "    # Number 7 signal pattern\n",
    "    numberSeven = [k for k,v in possibleValuesDict.items() if v[0] == 7][0]\n",
    "    # Number 4 signal pattern\n",
    "    numberFour = [k for k,v in possibleValuesDict.items() if v[0] == 4][0]\n",
    "\n",
    "    # Iterate through all keys in possibleValuesDict\n",
    "    for i in possibleValuesDict.keys():\n",
    "\n",
    "        # If the key has a possible value of 0\n",
    "        if 0 in possibleValuesDict[i]:\n",
    "            for j in range(2):\n",
    "                if j == 0:\n",
    "                    if len(set(numberFour).symmetric_difference(set(i))) != 4:\n",
    "                        possibleValuesDict[i].remove(0)\n",
    "                        break\n",
    "                if j == 1:\n",
    "                    if len(set(numberSeven).symmetric_difference(set(i))) != 3:\n",
    "                        possibleValuesDict[i].remove(0)\n",
    "        \n",
    "        # If the key has a possible value of 9\n",
    "        if 9 in possibleValuesDict[i]:\n",
    "            if len(set(numberFour).symmetric_difference(set(i))) != 2:\n",
    "                possibleValuesDict[i].remove(9)\n",
    "\n",
    "        # If the key has a possible value of 6\n",
    "        if 6 in possibleValuesDict[i]:\n",
    "            if len(set(numberSeven).symmetric_difference(set(i))) == 3:\n",
    "                possibleValuesDict[i].remove(6)\n",
    "\n",
    "        #If the key has a possible value of 3\n",
    "        if 3 in possibleValuesDict[i]:\n",
    "            if len(set(numberSeven).symmetric_difference(set(i))) != 2:\n",
    "                possibleValuesDict[i].remove(3)\n",
    "\n",
    "        #If the key has a possible value of 2\n",
    "        if 2 in possibleValuesDict[i]:\n",
    "            for j in range(2):\n",
    "                if j  == 0:\n",
    "                    if len(set(numberSeven).symmetric_difference(set(i))) != 4:\n",
    "                        possibleValuesDict[i].remove(2)\n",
    "                        break\n",
    "                if j == 1:\n",
    "                  if len(set(numberFour).symmetric_difference(set(i))) != 5:\n",
    "                        possibleValuesDict[i].remove(2)\n",
    "\n",
    "        #If the key has a possible value of 5\n",
    "        if 5 in possibleValuesDict[i]:\n",
    "            for j in range(2):\n",
    "                if j  == 0:\n",
    "                    if len(set(numberSeven).symmetric_difference(set(i))) == 2:\n",
    "                        possibleValuesDict[i].remove(5)\n",
    "                        break\n",
    "                if j == 1:\n",
    "                    if len(set(numberFour).symmetric_difference(set(i))) != 3:\n",
    "                        possibleValuesDict[i].remove(5)\n",
    "    \n",
    "    # Returns the narrowed possible values dictionary\n",
    "    return possibleValuesDict\n",
    "\n",
    "def sortString(string):\n",
    "    return ''.join(sorted(string))\n",
    "\n",
    "def cipherStart(list):\n",
    "    # Segment Signal Pattern Length Dictionary\n",
    "    signalPatternLength = {0: 6, 1: 2, 2: 5, 3: 5, 4: 4, 5: 5, 6: 6, 7: 3, 8: 7, 9: 6}\n",
    "    sum = 0\n",
    "    for i in range(len(list) // 2):\n",
    "        possibleValuesDict = {}\n",
    "        output = ''\n",
    "        for j in list[i*2]:\n",
    "            possibleValues = [k for k,v in     signalPatternLength.items() if v == len(j)]\n",
    "            possibleValuesDict[sortString(j)] = possibleValues\n",
    "        possibleValuesDict = narrowWithUniques(possibleValuesDict)\n",
    "        for k in list[i*2+1]:\n",
    "            output += str(possibleValuesDict[sortString(k)][0])\n",
    "        sum += int(output)\n",
    "    return sum\n",
    "    \n",
    "\n",
    "if __name__ == '__main__':\n",
    "    file = open('input.txt', 'r')\n",
    "    displayCipher = [i.strip().split(' | ') for i in file.readlines()]\n",
    "    displayCipher = [i[x].split(' ') for i in displayCipher for x in range(len(i))]\n",
    "    print(cipherStart(displayCipher))"
   ]
  },
  {
   "cell_type": "code",
   "execution_count": null,
   "metadata": {},
   "outputs": [],
   "source": []
  }
 ],
 "metadata": {
  "interpreter": {
   "hash": "b3ba2566441a7c06988d0923437866b63cedc61552a5af99d1f4fb67d367b25f"
  },
  "kernelspec": {
   "display_name": "Python 3.8.8 64-bit ('base': conda)",
   "language": "python",
   "name": "python3"
  },
  "language_info": {
   "codemirror_mode": {
    "name": "ipython",
    "version": 3
   },
   "file_extension": ".py",
   "mimetype": "text/x-python",
   "name": "python",
   "nbconvert_exporter": "python",
   "pygments_lexer": "ipython3",
   "version": "3.8.8"
  },
  "orig_nbformat": 4
 },
 "nbformat": 4,
 "nbformat_minor": 2
}
