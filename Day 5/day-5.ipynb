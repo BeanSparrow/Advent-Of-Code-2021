{
 "cells": [
  {
   "cell_type": "markdown",
   "metadata": {},
   "source": [
    "# Advent of Code Day 5"
   ]
  },
  {
   "cell_type": "markdown",
   "metadata": {},
   "source": [
    "### Part 1"
   ]
  },
  {
   "cell_type": "code",
   "execution_count": 7,
   "metadata": {},
   "outputs": [
    {
     "name": "stdout",
     "output_type": "stream",
     "text": [
      "8111\n"
     ]
    }
   ],
   "source": [
    "import re\n",
    "\n",
    "def parser():\n",
    "    file = open('input.txt', 'r')\n",
    "    return splitCoordinates(file.readlines())\n",
    "\n",
    "def splitCoordinates(list):\n",
    "    newList = []\n",
    "    for line in list:\n",
    "        line = re.findall('[0-9]+', line)\n",
    "        newList.append(line)\n",
    "    return newList\n",
    "\n",
    "def horizontalOrVerticalOnly(list):\n",
    "    newList = []\n",
    "    for line in list:\n",
    "        if line[1] == line[3]:\n",
    "            newList.append(line)\n",
    "        elif line[0] == line[2]:\n",
    "            newList.append(line)\n",
    "    return newList\n",
    "\n",
    "def getLineCoordinates(line):\n",
    "    allLineCoordinates = []\n",
    "    if line[0] == line[2]:\n",
    "        for i in range(abs(int(line[1])-int(line[3]))+1):\n",
    "            allLineCoordinates.append([int(line[0]), min(int(line[1]), int(line[3]))+i])\n",
    "    if line[1] == line[3]:\n",
    "        for i in range(abs(int(line[0])-int(line[2]))+1):\n",
    "            allLineCoordinates.append([min(int(line[0]), int(line[2]))+i, int(line[1])])\n",
    "    return allLineCoordinates\n",
    "\n",
    "def getOverlappingPoints(coordinates):\n",
    "    overlapCoords = {}\n",
    "    for line in hVCoordinates:\n",
    "        lineCoordinates = getLineCoordinates(line)\n",
    "        for coord in lineCoordinates:\n",
    "            coordKey = str(coord[0]) + ',' + str(coord[1])\n",
    "            overlapCoords[coordKey] = 1 if coordKey not in overlapCoords else overlapCoords[coordKey] + 1\n",
    "    return overlapCoords\n",
    "            \n",
    "if __name__ == '__main__':\n",
    "    coordinates = parser()\n",
    "    hVCoordinates = horizontalOrVerticalOnly(coordinates)\n",
    "    overlappingPoints = len(list(filter(lambda x: x > 1, getOverlappingPoints(hVCoordinates).values())))\n",
    "    print(overlappingPoints)\n",
    "\n",
    "    \n",
    "    \n"
   ]
  },
  {
   "cell_type": "markdown",
   "metadata": {},
   "source": [
    "### Part 2"
   ]
  },
  {
   "cell_type": "code",
   "execution_count": 9,
   "metadata": {},
   "outputs": [
    {
     "name": "stdout",
     "output_type": "stream",
     "text": [
      "22088\n"
     ]
    }
   ],
   "source": [
    "import re\n",
    "\n",
    "def parser():\n",
    "    file = open('input.txt', 'r')\n",
    "    return splitCoordinates(file.readlines())\n",
    "\n",
    "def splitCoordinates(list):\n",
    "    newList = []\n",
    "    for line in list:\n",
    "        line = re.findall('[0-9]+', line)\n",
    "        newList.append(line)\n",
    "    return newList\n",
    "\n",
    "def getLineCoordinates(line):\n",
    "    allLineCoordinates = []\n",
    "    if line[0] == line[2]:\n",
    "        for i in range(abs(int(line[1])-int(line[3]))+1):\n",
    "            allLineCoordinates.append([int(line[0]), min(int(line[1]), int(line[3]))+i])\n",
    "    elif line[1] == line[3]:\n",
    "        for i in range(abs(int(line[0])-int(line[2]))+1):\n",
    "            allLineCoordinates.append([min(int(line[0]), int(line[2]))+i, int(line[1])])\n",
    "    else:\n",
    "        for i in range(abs(int(line[0])-int(line[2]))+1):\n",
    "            if (int(line[0]) < int(line[2])) and (int(line[1]) < int(line[3])):\n",
    "                allLineCoordinates.append([int(line[0])+i, int(line[1])+i])\n",
    "            elif (int(line[0]) < int(line[2])) and (int(line[1]) > int(line[3])):\n",
    "                allLineCoordinates.append([int(line[0])+i, int(line[1])-i])\n",
    "            elif (int(line[0]) > int(line[2])) and (int(line[1]) < int(line[3])):\n",
    "                allLineCoordinates.append([int(line[0])-i, int(line[1])+i])\n",
    "            elif (int(line[0]) > int(line[2])) and (int(line[1]) > int(line[3])):\n",
    "                allLineCoordinates.append([int(line[0])-i, int(line[1])-i])\n",
    "    return allLineCoordinates            \n",
    "\n",
    "def getOverlappingPoints(coordinates):\n",
    "    overlapCoords = {}\n",
    "    for line in coordinates:\n",
    "        lineCoordinates = getLineCoordinates(line)\n",
    "        for coord in lineCoordinates:\n",
    "            coordKey = str(coord[0]) + ',' + str(coord[1])\n",
    "            overlapCoords[coordKey] = 1 if coordKey not in overlapCoords else overlapCoords[coordKey] + 1\n",
    "    return overlapCoords\n",
    "\n",
    "if __name__ == '__main__':\n",
    "    coordinates = parser()\n",
    "    overlappingPoints = len(list(filter(lambda x: x > 1, getOverlappingPoints(coordinates).values())))\n",
    "    print(overlappingPoints)\n",
    "    \n",
    "    "
   ]
  },
  {
   "cell_type": "code",
   "execution_count": null,
   "metadata": {},
   "outputs": [],
   "source": []
  }
 ],
 "metadata": {
  "interpreter": {
   "hash": "b3ba2566441a7c06988d0923437866b63cedc61552a5af99d1f4fb67d367b25f"
  },
  "kernelspec": {
   "display_name": "Python 3.8.8 64-bit ('base': conda)",
   "language": "python",
   "name": "python3"
  },
  "language_info": {
   "codemirror_mode": {
    "name": "ipython",
    "version": 3
   },
   "file_extension": ".py",
   "mimetype": "text/x-python",
   "name": "python",
   "nbconvert_exporter": "python",
   "pygments_lexer": "ipython3",
   "version": "3.8.5"
  },
  "orig_nbformat": 4
 },
 "nbformat": 4,
 "nbformat_minor": 2
}
