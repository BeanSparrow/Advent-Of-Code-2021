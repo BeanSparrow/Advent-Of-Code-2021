{
 "cells": [
  {
   "cell_type": "markdown",
   "metadata": {},
   "source": [
    "# Advent of Code Day 9"
   ]
  },
  {
   "cell_type": "markdown",
   "metadata": {},
   "source": [
    "### Part 1"
   ]
  },
  {
   "cell_type": "code",
   "execution_count": 35,
   "metadata": {},
   "outputs": [
    {
     "name": "stdout",
     "output_type": "stream",
     "text": [
      "491\n"
     ]
    }
   ],
   "source": [
    "# Identify near locations and if exist\n",
    "def nearLocations(y, x, maxY, maxX):\n",
    "    locsAround = [(y + 1, x), (y - 1, x), (y, x + 1), (y, x - 1)]\n",
    "    return [(nearY, nearX) for nearY, nearX in locsAround if 0 <= nearY < maxY and 0 <= nearX < maxX]\n",
    "\n",
    "# Determine if a location is a lowpoint and add to list\n",
    "def getLowValues(caveFloor, maxY, maxX):\n",
    "    lowValues = []\n",
    "    for y in range(maxY):\n",
    "        for x in range(maxX):\n",
    "            if all(caveFloor[y][x] < caveFloor[nearY][nearX] for nearY, nearX in nearLocations(y, x, maxY, maxX)):\n",
    "                lowValues.append((int(caveFloor[y][x])))\n",
    "    return lowValues\n",
    "\n",
    "if __name__ == '__main__':\n",
    "    file = open('input.txt', 'r')\n",
    "    caveFloor = [i.strip() for i in file.readlines()]\n",
    "    \n",
    "    maxX = len(caveFloor[0])\n",
    "    maxY = len(caveFloor)\n",
    "\n",
    "    lowValues = getLowValues(caveFloor, maxY, maxX)\n",
    "\n",
    "    print(sum(lowValues)+len(lowValues))"
   ]
  },
  {
   "cell_type": "markdown",
   "metadata": {},
   "source": [
    "### Part 2"
   ]
  },
  {
   "cell_type": "code",
   "execution_count": 23,
   "metadata": {},
   "outputs": [
    {
     "name": "stdout",
     "output_type": "stream",
     "text": [
      "2\n",
      "1\n",
      "4\n",
      "2\n",
      "6\n",
      "3\n"
     ]
    }
   ],
   "source": []
  },
  {
   "cell_type": "code",
   "execution_count": null,
   "metadata": {},
   "outputs": [],
   "source": []
  }
 ],
 "metadata": {
  "interpreter": {
   "hash": "b3ba2566441a7c06988d0923437866b63cedc61552a5af99d1f4fb67d367b25f"
  },
  "kernelspec": {
   "display_name": "Python 3.8.8 64-bit ('base': conda)",
   "language": "python",
   "name": "python3"
  },
  "language_info": {
   "codemirror_mode": {
    "name": "ipython",
    "version": 3
   },
   "file_extension": ".py",
   "mimetype": "text/x-python",
   "name": "python",
   "nbconvert_exporter": "python",
   "pygments_lexer": "ipython3",
   "version": "3.8.8"
  },
  "orig_nbformat": 4
 },
 "nbformat": 4,
 "nbformat_minor": 2
}
