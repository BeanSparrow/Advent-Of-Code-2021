{
 "cells": [
  {
   "cell_type": "markdown",
   "metadata": {},
   "source": [
    "# Advent of Code Day 9"
   ]
  },
  {
   "cell_type": "markdown",
   "metadata": {},
   "source": [
    "### Part 1"
   ]
  },
  {
   "cell_type": "code",
   "execution_count": 35,
   "metadata": {},
   "outputs": [
    {
     "name": "stdout",
     "output_type": "stream",
     "text": [
      "491\n"
     ]
    }
   ],
   "source": [
    "# Identify near locations and if exist\n",
    "def nearLocations(y, x, maxY, maxX):\n",
    "    locsAround = [(y + 1, x), (y - 1, x), (y, x + 1), (y, x - 1)]\n",
    "    return [(nearY, nearX) for nearY, nearX in locsAround if 0 <= nearY < maxY and 0 <= nearX < maxX]\n",
    "\n",
    "# Determine if a location is a lowpoint and add to list\n",
    "def getLowValues(caveFloor, maxY, maxX):\n",
    "    lowValues = []\n",
    "    for y in range(maxY):\n",
    "        for x in range(maxX):\n",
    "            if all(caveFloor[y][x] < caveFloor[nearY][nearX] for nearY, nearX in nearLocations(y, x, maxY, maxX)):\n",
    "                lowValues.append((int(caveFloor[y][x])))\n",
    "    return lowValues\n",
    "\n",
    "if __name__ == '__main__':\n",
    "    file = open('input.txt', 'r')\n",
    "    caveFloor = [i.strip() for i in file.readlines()]\n",
    "    \n",
    "    maxX = len(caveFloor[0])\n",
    "    maxY = len(caveFloor)\n",
    "\n",
    "    lowValues = getLowValues(caveFloor, maxY, maxX)\n",
    "\n",
    "    print(sum(lowValues)+len(lowValues))"
   ]
  },
  {
   "cell_type": "markdown",
   "metadata": {},
   "source": [
    "### Part 2"
   ]
  },
  {
   "cell_type": "code",
   "execution_count": 67,
   "metadata": {},
   "outputs": [
    {
     "name": "stdout",
     "output_type": "stream",
     "text": [
      "1075536\n",
      "[2, 2, 2, 2, 2, 2, 2, 2, 3, 3, 3, 3, 3, 3, 3, 3, 3, 3, 4, 4, 4, 4, 4, 4, 4, 4, 5, 5, 5, 5, 5, 6, 6, 6, 6, 6, 6, 6, 6, 7, 7, 8, 8, 8, 9, 9, 10, 10, 10, 10, 10, 10, 11, 11, 11, 11, 11, 11, 11, 12, 12, 12, 12, 12, 12, 12, 14, 15, 15, 15, 16, 17, 17, 17, 17, 17, 17, 17, 18, 19, 20, 20, 20, 20, 20, 20, 20, 21, 21, 21, 21, 22, 22, 22, 23, 23, 23, 24, 24, 24, 25, 25, 25, 25, 26, 26, 27, 27, 27, 29, 29, 29, 29, 30, 30, 30, 30, 30, 31, 31, 31, 31, 32, 32, 32, 32, 32, 32, 33, 33, 34, 34, 34, 34, 34, 34, 35, 35, 35, 36, 36, 36, 37, 37, 37, 37, 37, 37, 38, 38, 39, 40, 41, 41, 41, 42, 43, 43, 44, 44, 44, 45, 45, 46, 46, 46, 46, 47, 48, 48, 48, 50, 50, 50, 51, 51, 52, 52, 52, 53, 54, 54, 54, 54, 55, 55, 56, 56, 57, 58, 59, 60, 61, 61, 62, 62, 63, 63, 64, 65, 66, 66, 66, 66, 68, 69, 73, 73, 73, 75, 76, 79, 79, 79, 80, 82, 83, 87, 88, 89, 89, 93, 97, 99, 112]\n"
     ]
    }
   ],
   "source": [
    "def nearLocations(y, x, maxY, maxX):\n",
    "    locsAround = [(y + 1, x), (y - 1, x), (y, x + 1), (y, x - 1)]\n",
    "    return [(nearY, nearX) for nearY, nearX in locsAround if 0 <= nearY < maxY and 0 <= nearX < maxX]\n",
    "\n",
    "def getLowValues(caveFloor, maxY, maxX):\n",
    "    lowValues = []\n",
    "    for y in range(maxY):\n",
    "        for x in range(maxX):\n",
    "            if all(caveFloor[y][x] < caveFloor[nearY][nearX] for nearY, nearX in nearLocations(y, x, maxY, maxX)):\n",
    "                lowValues.append((y,x))\n",
    "    return lowValues\n",
    "\n",
    "def getBasinSizes(y, x, maxY, maxX):\n",
    "    basin = {(y, x)}\n",
    "    for nearY, nearX in nearLocations(y, x, maxY, maxX):\n",
    "        if int(caveFloor[nearY][nearX]) > int(caveFloor[y][x]) and int(caveFloor[nearY][nearX]) < 9:\n",
    "            basin.update(getBasinSizes(nearY, nearX, maxY, maxX))\n",
    "    return basin\n",
    "\n",
    "if __name__ == '__main__':\n",
    "    file = open('input.txt', 'r')\n",
    "    caveFloor = [i.strip() for i in file.readlines()]\n",
    "    \n",
    "    maxX = len(caveFloor[0])\n",
    "    maxY = len(caveFloor)\n",
    "\n",
    "    lowValuesLoc = getLowValues(caveFloor, maxY, maxX)\n",
    "   \n",
    "    basinSizes = sorted([len(getBasinSizes(y, x, maxY, maxX)) for y, x in lowValuesLoc])\n",
    "    print( basinSizes[-1] * basinSizes[-2] * basinSizes[-3])\n",
    "\n"
   ]
  },
  {
   "cell_type": "code",
   "execution_count": null,
   "metadata": {},
   "outputs": [],
   "source": []
  }
 ],
 "metadata": {
  "interpreter": {
   "hash": "b3ba2566441a7c06988d0923437866b63cedc61552a5af99d1f4fb67d367b25f"
  },
  "kernelspec": {
   "display_name": "Python 3.8.8 64-bit ('base': conda)",
   "language": "python",
   "name": "python3"
  },
  "language_info": {
   "codemirror_mode": {
    "name": "ipython",
    "version": 3
   },
   "file_extension": ".py",
   "mimetype": "text/x-python",
   "name": "python",
   "nbconvert_exporter": "python",
   "pygments_lexer": "ipython3",
   "version": "3.8.8"
  },
  "orig_nbformat": 4
 },
 "nbformat": 4,
 "nbformat_minor": 2
}
