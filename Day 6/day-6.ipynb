{
 "cells": [
  {
   "cell_type": "markdown",
   "metadata": {},
   "source": [
    "# Advent of Code Day 5"
   ]
  },
  {
   "cell_type": "markdown",
   "metadata": {},
   "source": [
    "### Part 1"
   ]
  },
  {
   "cell_type": "code",
   "execution_count": 2,
   "metadata": {},
   "outputs": [
    {
     "name": "stdout",
     "output_type": "stream",
     "text": [
      "374927\n"
     ]
    }
   ],
   "source": [
    "# Reads in the input file and returns a list of strings\n",
    "def parser():\n",
    "    file = open('input.txt', 'r')\n",
    "    fish = file.readline()\n",
    "    # Splits String by comma\n",
    "    return fish.split(',')\n",
    "     \n",
    "\n",
    "#Counts the number of fish at each age\n",
    "def fishAgeCount(fish):\n",
    "    #Map the fish to their age and returns an ordered list of counts\n",
    "    #Had to hardcode the age string match\n",
    "    return list(map(fish.count, '012345678'))\n",
    "\n",
    "# Logic for iterating quantity of fish over passed Ages\n",
    "def fishSimulator(fishAgeList, days):\n",
    "    for i in range(days):\n",
    "        zeroCount = fishAgeList[0] #Count of fish at age 0\n",
    "        fishAgeList = fishAgeList[1:] + [zeroCount] #Add the count of fish at age 0 to the end of the list\n",
    "        fishAgeList[6] += zeroCount #Add the count of fish at age 0 to the count of fish at age 7\n",
    "    return fishAgeList\n",
    "\n",
    "if __name__ == '__main__':\n",
    "    fish = parser()\n",
    "    AgesPassed = 80\n",
    "    fishAgeList = fishAgeCount(fish)\n",
    "    simulatedFishAgeList = fishSimulator(fishAgeList, AgesPassed)\n",
    "    print(sum(simulatedFishAgeList)) \n"
   ]
  },
  {
   "cell_type": "markdown",
   "metadata": {},
   "source": [
    "### Part 2"
   ]
  },
  {
   "cell_type": "code",
   "execution_count": 3,
   "metadata": {},
   "outputs": [
    {
     "name": "stdout",
     "output_type": "stream",
     "text": [
      "1687617803407\n"
     ]
    }
   ],
   "source": [
    "# Reads in the input file and returns a list of strings\n",
    "def parser():\n",
    "    file = open('input.txt', 'r')\n",
    "    fish = file.readline()\n",
    "    # Splits String by comma\n",
    "    return fish.split(',')\n",
    "     \n",
    "\n",
    "#Counts the number of fish at each age\n",
    "def fishAgeCount(fish):\n",
    "    #Map the fish to their age and returns an ordered list of counts\n",
    "    #Had to hardcode the age string match\n",
    "    return list(map(fish.count, '012345678'))\n",
    "\n",
    "# Logic for iterating quantity of fish over passed Ages\n",
    "def fishSimulator(fishAgeList, days):\n",
    "    for i in range(days):\n",
    "        zeroCount = fishAgeList[0] #Count of fish at age 0\n",
    "        fishAgeList = fishAgeList[1:] + [zeroCount] #Add the count of fish at age 0 to the end of the list\n",
    "        fishAgeList[6] += zeroCount #Add the count of fish at age 0 to the count of fish at age 7\n",
    "    return fishAgeList\n",
    "\n",
    "if __name__ == '__main__':\n",
    "    fish = parser()\n",
    "    AgesPassed = 256\n",
    "    fishAgeList = fishAgeCount(fish)\n",
    "    simulatedFishAgeList = fishSimulator(fishAgeList, AgesPassed)\n",
    "    print(sum(simulatedFishAgeList)) \n",
    "    "
   ]
  },
  {
   "cell_type": "code",
   "execution_count": null,
   "metadata": {},
   "outputs": [],
   "source": []
  }
 ],
 "metadata": {
  "interpreter": {
   "hash": "b3ba2566441a7c06988d0923437866b63cedc61552a5af99d1f4fb67d367b25f"
  },
  "kernelspec": {
   "display_name": "Python 3.8.8 64-bit ('base': conda)",
   "language": "python",
   "name": "python3"
  },
  "language_info": {
   "codemirror_mode": {
    "name": "ipython",
    "version": 3
   },
   "file_extension": ".py",
   "mimetype": "text/x-python",
   "name": "python",
   "nbconvert_exporter": "python",
   "pygments_lexer": "ipython3",
   "version": "3.8.5"
  },
  "orig_nbformat": 4
 },
 "nbformat": 4,
 "nbformat_minor": 2
}
