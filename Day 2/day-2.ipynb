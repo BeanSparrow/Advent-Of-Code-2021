{
 "cells": [
  {
   "cell_type": "markdown",
   "metadata": {},
   "source": [
    "# Advent of Code Day 1"
   ]
  },
  {
   "cell_type": "markdown",
   "metadata": {},
   "source": [
    "### Part 1"
   ]
  },
  {
   "cell_type": "code",
   "execution_count": 52,
   "metadata": {},
   "outputs": [
    {
     "name": "stdout",
     "output_type": "stream",
     "text": [
      "2036120\n"
     ]
    }
   ],
   "source": [
    "file = open('input.txt', 'r')\n",
    "instructions = file.readlines()\n",
    "\n",
    "X = 0\n",
    "Y = 0\n",
    "\n",
    "for line in instructions:\n",
    "    if line[:-3] == 'forward':\n",
    "        X += int(line[-3:])\n",
    "    elif line[:-3] == 'down':\n",
    "        Y += int(line[-3:])\n",
    "    elif line[:-3] == 'up':\n",
    "        Y -= int(line[-3:])\n",
    "\n",
    "print(X * Y)\n",
    "    "
   ]
  },
  {
   "cell_type": "markdown",
   "metadata": {},
   "source": [
    "### Part 2"
   ]
  },
  {
   "cell_type": "code",
   "execution_count": 54,
   "metadata": {},
   "outputs": [
    {
     "name": "stdout",
     "output_type": "stream",
     "text": [
      "2015547716\n"
     ]
    }
   ],
   "source": [
    "file = open('input.txt', 'r')\n",
    "instructions = file.readlines()\n",
    "\n",
    "pos = 0\n",
    "depth = 0\n",
    "aim = 0\n",
    "\n",
    "for line in instructions:\n",
    "    if line[:-3] == 'forward':\n",
    "        pos += int(line[-3:])\n",
    "        depth += (int(line[-3:]) * aim)\n",
    "    elif line[:-3] == 'down':\n",
    "        aim += int(line[-3:])\n",
    "    elif line[:-3] == 'up':\n",
    "        aim -= int(line[-3:])\n",
    "\n",
    "print(pos * depth)"
   ]
  },
  {
   "cell_type": "markdown",
   "metadata": {},
   "source": [
    "### Day 2"
   ]
  },
  {
   "cell_type": "code",
   "execution_count": 41,
   "metadata": {},
   "outputs": [
    {
     "name": "stdout",
     "output_type": "stream",
     "text": [
      "1704\n"
     ]
    }
   ],
   "source": []
  }
 ],
 "metadata": {
  "interpreter": {
   "hash": "b3ba2566441a7c06988d0923437866b63cedc61552a5af99d1f4fb67d367b25f"
  },
  "kernelspec": {
   "display_name": "Python 3.8.8 64-bit ('base': conda)",
   "language": "python",
   "name": "python3"
  },
  "language_info": {
   "codemirror_mode": {
    "name": "ipython",
    "version": 3
   },
   "file_extension": ".py",
   "mimetype": "text/x-python",
   "name": "python",
   "nbconvert_exporter": "python",
   "pygments_lexer": "ipython3",
   "version": "3.8.8"
  },
  "orig_nbformat": 4
 },
 "nbformat": 4,
 "nbformat_minor": 2
}
