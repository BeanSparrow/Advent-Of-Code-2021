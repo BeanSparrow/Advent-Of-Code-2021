{
 "cells": [
  {
   "cell_type": "markdown",
   "metadata": {},
   "source": [
    "# Advent of Code Day 10"
   ]
  },
  {
   "cell_type": "markdown",
   "metadata": {},
   "source": [
    "### Part 1"
   ]
  },
  {
   "cell_type": "code",
   "execution_count": 53,
   "metadata": {},
   "outputs": [
    {
     "name": "stdout",
     "output_type": "stream",
     "text": [
      "26397\n"
     ]
    }
   ],
   "source": [
    "# Score Determiner\n",
    "def scoreDeterminer(illegalList, codeValueList):\n",
    "    sum = 0\n",
    "    for x in range(len(illegalList)):\n",
    "        sum += codeValueList[illegalList[x]]\n",
    "    return sum\n",
    "\n",
    "# Generagtes Illegal Code List\n",
    "def navigationSubsystemChecker(navigationSubsystem, closeCodesDict):\n",
    "    illegalList = []\n",
    "    \n",
    "    # For each Line of Subsytem Code\n",
    "    for y in range(len(navigationSubsystem)):\n",
    "        # List Tracks Open Codes as function iterates over each line\n",
    "        codeList = []\n",
    "        # For each Code in Line\n",
    "        for x in range(len(navigationSubsystem[y])):\n",
    "            \n",
    "            # If Code is not in the closeCodesDict, add it to the code list\n",
    "            # Add Open Code to List\n",
    "            if navigationSubsystem[y][x] not in closeCodesDict:\n",
    "                codeList.append(navigationSubsystem[y][x])\n",
    "            \n",
    "            # If Code is in the closeCodesDict, and the last code in the code list is the inverse code\n",
    "            # remove the last code from the code list\n",
    "            elif navigationSubsystem[y][x] in closeCodesDict:\n",
    "                if codeList[len(codeList)-1] == closeCodesDict[navigationSubsystem[y][x]]:\n",
    "                    codeList.pop()\n",
    "                \n",
    "                # If the last code in the code list is not the inverse code, add the code to the illegal list\n",
    "                elif codeList[len(codeList)-1] != closeCodesDict[navigationSubsystem[y][x]]:\n",
    "                    illegalList.append(navigationSubsystem[y][x])\n",
    "                    break\n",
    "    \n",
    "    return illegalList\n",
    "                    \n",
    "if __name__ == '__main__':\n",
    "    # Parse Input\n",
    "    file = open('test-input.txt', 'r')\n",
    "    navigationSubsystem = [i.strip() for i in file.readlines()]\n",
    "\n",
    "    # Dictionaries for Close Codes and Scores\n",
    "    closeCodesDict = {')': '(', '}': '{', '>': '<', ']': '['}\n",
    "    codeValueList = {')': 3, '}': 1197, '>': 25137, ']': 57}\n",
    "    \n",
    "    # Call Checker Function and get the list of illegal codes\n",
    "    illegalList = navigationSubsystemChecker(navigationSubsystem, closeCodesDict)\n",
    "\n",
    "    # Pass the illegal list and the code value list to the score determiner and print score\n",
    "    print(scoreDeterminer(illegalList, codeValueList))\n",
    "    \n",
    "\n",
    "   "
   ]
  },
  {
   "cell_type": "markdown",
   "metadata": {},
   "source": [
    "### Part 2"
   ]
  },
  {
   "cell_type": "code",
   "execution_count": 50,
   "metadata": {},
   "outputs": [
    {
     "name": "stdout",
     "output_type": "stream",
     "text": [
      "3049320156\n"
     ]
    }
   ],
   "source": [
    "def incompleteListPointSum(incompleteList, codeValueList):\n",
    "    sum = 0\n",
    "    for i in range(len(incompleteList)):\n",
    "        sum = sum * 5\n",
    "        sum += codeValueList[incompleteList[i]] \n",
    "    return sum\n",
    "\n",
    "def navigationSubsystemCheckerIncomplete(navigationSubsystem, closeCodesDict, codeValueList):\n",
    "    score = []\n",
    "    for y in range(len(navigationSubsystem)):\n",
    "        illegalList = []\n",
    "        codeList = []\n",
    "        for x in range(len(navigationSubsystem[y])):\n",
    "            if navigationSubsystem[y][x] not in closeCodesDict:\n",
    "                codeList.append(navigationSubsystem[y][x])\n",
    "            elif navigationSubsystem[y][x] in closeCodesDict:\n",
    "                codeList.pop()\n",
    "        score.append(incompleteListPointSum(codeList[::-1], codeValueList))\n",
    "              \n",
    "    return score\n",
    "\n",
    "def navigationSubsystemCheckerInvalid(navigationSubsystem, closeCodesDict):\n",
    "    illegalLineList = []\n",
    "    for y in range(len(navigationSubsystem)):\n",
    "        codeList = []\n",
    "        for x in range(len(navigationSubsystem[y])):\n",
    "            if navigationSubsystem[y][x] not in closeCodesDict:\n",
    "                codeList.append(navigationSubsystem[y][x])\n",
    "            elif navigationSubsystem[y][x] in closeCodesDict:\n",
    "                if codeList[len(codeList)-1] == closeCodesDict[navigationSubsystem[y][x]]:\n",
    "                    codeList.pop()\n",
    "                elif codeList[len(codeList)-1] != closeCodesDict[navigationSubsystem[y][x]]:\n",
    "                    illegalLineList.append(navigationSubsystem[y])\n",
    "                    break\n",
    "    return illegalLineList\n",
    "\n",
    "def illegalLineRemover(navigationSubsystem, illegalLineList):\n",
    "    for i in illegalLineList:\n",
    "        navigationSubsystem.remove(i)\n",
    "    return navigationSubsystem\n",
    "\n",
    "\n",
    "def createCodeDictionary(codeString):\n",
    "    return dict.fromkeys(codeString, 0)\n",
    "\n",
    "if __name__ == '__main__':\n",
    "    file = open('input.txt', 'r')\n",
    "    navigationSubsystem = [i.strip() for i in file.readlines()]\n",
    "\n",
    "    closeCodesDict = {')': '(', '}': '{', '>': '<', ']': '['}\n",
    "    codeValueList = {'(': 1, '{': 3, '<': 4, '[': 2}\n",
    "    illegalLineList = navigationSubsystemCheckerInvalid(navigationSubsystem, closeCodesDict)\n",
    "    navigationSubsystemIncompleteLines = illegalLineRemover(navigationSubsystem, illegalLineList)\n",
    "\n",
    "    score = navigationSubsystemCheckerIncomplete(navigationSubsystemIncompleteLines, closeCodesDict, codeValueList)\n",
    "\n",
    "    score = sorted(score)\n",
    "    middleScore = score[len(score)//2]\n",
    "    print(middleScore)\n",
    "    \n",
    "    "
   ]
  }
 ],
 "metadata": {
  "interpreter": {
   "hash": "b3ba2566441a7c06988d0923437866b63cedc61552a5af99d1f4fb67d367b25f"
  },
  "kernelspec": {
   "display_name": "Python 3.8.8 64-bit ('base': conda)",
   "language": "python",
   "name": "python3"
  },
  "language_info": {
   "codemirror_mode": {
    "name": "ipython",
    "version": 3
   },
   "file_extension": ".py",
   "mimetype": "text/x-python",
   "name": "python",
   "nbconvert_exporter": "python",
   "pygments_lexer": "ipython3",
   "version": "3.8.8"
  },
  "orig_nbformat": 4
 },
 "nbformat": 4,
 "nbformat_minor": 2
}
