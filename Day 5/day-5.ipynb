{
 "cells": [
  {
   "cell_type": "markdown",
   "metadata": {},
   "source": [
    "# Advent of Code Day 5"
   ]
  },
  {
   "cell_type": "markdown",
   "metadata": {},
   "source": [
    "### Part 1"
   ]
  },
  {
   "cell_type": "code",
   "execution_count": 29,
   "metadata": {},
   "outputs": [
    {
     "name": "stdout",
     "output_type": "stream",
     "text": [
      "8111\n"
     ]
    }
   ],
   "source": [
    "import re\n",
    "\n",
    "def parser():\n",
    "    file = open('input.txt', 'r')\n",
    "    return file.readlines()\n",
    "\n",
    "def splitCoordinates(list):\n",
    "    newList = []\n",
    "    for line in list:\n",
    "        line = re.findall('[0-9]+', line)\n",
    "        newList.append(line)\n",
    "    return newList\n",
    "\n",
    "def horizontalOrVerticalOnly(list):\n",
    "    newList = []\n",
    "    for line in list:\n",
    "        if line[1] == line[3]:\n",
    "            newList.append(line)\n",
    "        elif line[0] == line[2]:\n",
    "            newList.append(line)\n",
    "    return newList\n",
    "\n",
    "def getLineCoordinates(line):\n",
    "    allLineCoordinates = []\n",
    "    if line[0] == line[2]:\n",
    "        for i in range(abs(int(line[1])-int(line[3]))+1):\n",
    "            allLineCoordinates.append([int(line[0]), min(int(line[1]), int(line[3]))+i])\n",
    "    if line[1] == line[3]:\n",
    "        for i in range(abs(int(line[0])-int(line[2]))+1):\n",
    "            allLineCoordinates.append([min(int(line[0]), int(line[2]))+i, int(line[1])])\n",
    "    return allLineCoordinates\n",
    "\n",
    "def getGridSize(list):\n",
    "    maxX = 0\n",
    "    maxY = 0\n",
    "    for line in list:\n",
    "        if int(line[0]) > maxX:\n",
    "            maxX = int(line[0])\n",
    "        if int(line[1]) > maxY:\n",
    "            maxY = int(line[1])\n",
    "        if int(line[2]) > maxX:\n",
    "            maxX = int(line[2])\n",
    "        if int(line[3]) > maxY:\n",
    "            maxY = int(line[3])\n",
    "    return maxX, maxY\n",
    "\n",
    "def buildGrid(maxX, maxY):\n",
    "    grid = {}\n",
    "    for i in range(maxX+1):\n",
    "        for j in range(maxY+1):\n",
    "            grid[(i,j)] = 0\n",
    "    return grid\n",
    "\n",
    "def addLine(line, grid):\n",
    "    for el in line:\n",
    "        grid[el[0], el[1]] += 1\n",
    "    return grid\n",
    "            \n",
    "\n",
    "\n",
    "if __name__ == '__main__':\n",
    "    input = parser()\n",
    "    coordinates = splitCoordinates(input)\n",
    "    hVCoordinates = horizontalOrVerticalOnly(coordinates)\n",
    "    grid = buildGrid(getGridSize(hVCoordinates)[0], getGridSize(hVCoordinates)[1])\n",
    "    for line in hVCoordinates:\n",
    "        lineCoordinates = getLineCoordinates(line)\n",
    "        grid = addLine(lineCoordinates, grid)\n",
    "    overlappingPoints = [coord for coord, occurence in grid.items() if occurence > 1]\n",
    "    print(len(overlappingPoints))\n",
    "\n",
    "    \n",
    "    \n"
   ]
  },
  {
   "cell_type": "markdown",
   "metadata": {},
   "source": [
    "### Part 2"
   ]
  },
  {
   "cell_type": "code",
   "execution_count": 34,
   "metadata": {},
   "outputs": [
    {
     "name": "stdout",
     "output_type": "stream",
     "text": [
      "22088\n"
     ]
    }
   ],
   "source": [
    "import re\n",
    "\n",
    "def parser():\n",
    "    file = open('input.txt', 'r')\n",
    "    return file.readlines()\n",
    "\n",
    "def splitCoordinates(list):\n",
    "    newList = []\n",
    "    for line in list:\n",
    "        line = re.findall('[0-9]+', line)\n",
    "        newList.append(line)\n",
    "    return newList\n",
    "\n",
    "def getLineCoordinates(line):\n",
    "    allLineCoordinates = []\n",
    "    if line[0] == line[2]:\n",
    "        for i in range(abs(int(line[1])-int(line[3]))+1):\n",
    "            allLineCoordinates.append([int(line[0]), min(int(line[1]), int(line[3]))+i])\n",
    "    elif line[1] == line[3]:\n",
    "        for i in range(abs(int(line[0])-int(line[2]))+1):\n",
    "            allLineCoordinates.append([min(int(line[0]), int(line[2]))+i, int(line[1])])\n",
    "    else:\n",
    "        for i in range(abs(int(line[0])-int(line[2]))+1):\n",
    "            if (int(line[0]) < int(line[2])) and (int(line[1]) < int(line[3])):\n",
    "                allLineCoordinates.append([int(line[0])+i, int(line[1])+i])\n",
    "            elif (int(line[0]) < int(line[2])) and (int(line[1]) > int(line[3])):\n",
    "                allLineCoordinates.append([int(line[0])+i, int(line[1])-i])\n",
    "            elif (int(line[0]) > int(line[2])) and (int(line[1]) < int(line[3])):\n",
    "                allLineCoordinates.append([int(line[0])-i, int(line[1])+i])\n",
    "            elif (int(line[0]) > int(line[2])) and (int(line[1]) > int(line[3])):\n",
    "                allLineCoordinates.append([int(line[0])-i, int(line[1])-i])\n",
    "    return allLineCoordinates\n",
    "\n",
    "def getGridSize(list):\n",
    "    maxX = 0\n",
    "    maxY = 0\n",
    "    for line in list:\n",
    "        if int(line[0]) > maxX:\n",
    "            maxX = int(line[0])\n",
    "        if int(line[1]) > maxY:\n",
    "            maxY = int(line[1])\n",
    "        if int(line[2]) > maxX:\n",
    "            maxX = int(line[2])\n",
    "        if int(line[3]) > maxY:\n",
    "            maxY = int(line[3])\n",
    "    return maxX, maxY\n",
    "\n",
    "def buildGrid(maxX, maxY):\n",
    "    grid = {}\n",
    "    for i in range(maxX+1):\n",
    "        for j in range(maxY+1):\n",
    "            grid[(i,j)] = 0\n",
    "    return grid\n",
    "\n",
    "def addLine(line, grid):\n",
    "    for el in line:\n",
    "        grid[el[0], el[1]] += 1\n",
    "    return grid\n",
    "            \n",
    "\n",
    "\n",
    "if __name__ == '__main__':\n",
    "    input = parser()\n",
    "    coordinates = splitCoordinates(input)\n",
    "    grid = buildGrid(getGridSize(coordinates)[0], getGridSize(coordinates)[1])\n",
    "    for line in coordinates:\n",
    "        lineCoordinates = getLineCoordinates(line)\n",
    "        grid = addLine(lineCoordinates, grid)\n",
    "    overlappingPoints = [coord for coord, occurence in grid.items() if occurence > 1]\n",
    "    print(len(overlappingPoints))\n",
    "    \n",
    "    "
   ]
  },
  {
   "cell_type": "code",
   "execution_count": null,
   "metadata": {},
   "outputs": [],
   "source": []
  }
 ],
 "metadata": {
  "interpreter": {
   "hash": "b3ba2566441a7c06988d0923437866b63cedc61552a5af99d1f4fb67d367b25f"
  },
  "kernelspec": {
   "display_name": "Python 3.8.8 64-bit ('base': conda)",
   "language": "python",
   "name": "python3"
  },
  "language_info": {
   "codemirror_mode": {
    "name": "ipython",
    "version": 3
   },
   "file_extension": ".py",
   "mimetype": "text/x-python",
   "name": "python",
   "nbconvert_exporter": "python",
   "pygments_lexer": "ipython3",
   "version": "3.8.8"
  },
  "orig_nbformat": 4
 },
 "nbformat": 4,
 "nbformat_minor": 2
}
